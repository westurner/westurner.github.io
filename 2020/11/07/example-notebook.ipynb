{
 "cells": [
  {
   "cell_type": "markdown",
   "metadata": {},
   "source": [
    "# Example"
   ]
  },
  {
   "cell_type": "code",
   "execution_count": 1,
   "metadata": {},
   "outputs": [
    {
     "name": "stdout",
     "output_type": "stream",
     "text": [
      "Hello World\n"
     ]
    }
   ],
   "source": [
    "print(\"Hello World\")"
   ]
  },
  {
   "cell_type": "code",
   "execution_count": 2,
   "metadata": {},
   "outputs": [
    {
     "data": {
      "text/plain": [
       "['Audio',\n",
       " 'Code',\n",
       " 'DisplayHandle',\n",
       " 'DisplayObject',\n",
       " 'FileLink',\n",
       " 'FileLinks',\n",
       " 'GeoJSON',\n",
       " 'HTML',\n",
       " 'IFrame',\n",
       " 'Image',\n",
       " 'JSON',\n",
       " 'Javascript',\n",
       " 'Latex',\n",
       " 'Markdown',\n",
       " 'Math',\n",
       " 'Pretty',\n",
       " 'ProgressBar',\n",
       " 'SVG',\n",
       " 'ScribdDocument',\n",
       " 'TextDisplayObject',\n",
       " 'Video',\n",
       " 'VimeoVideo',\n",
       " 'YouTubeVideo',\n",
       " '__builtins__',\n",
       " '__cached__',\n",
       " '__doc__',\n",
       " '__file__',\n",
       " '__loader__',\n",
       " '__name__',\n",
       " '__package__',\n",
       " '__spec__',\n",
       " 'clear_output',\n",
       " 'display',\n",
       " 'display_html',\n",
       " 'display_javascript',\n",
       " 'display_jpeg',\n",
       " 'display_json',\n",
       " 'display_latex',\n",
       " 'display_markdown',\n",
       " 'display_pdf',\n",
       " 'display_png',\n",
       " 'display_pretty',\n",
       " 'display_svg',\n",
       " 'publish_display_data',\n",
       " 'set_matplotlib_close',\n",
       " 'set_matplotlib_formats',\n",
       " 'update_display']"
      ]
     },
     "execution_count": 2,
     "metadata": {},
     "output_type": "execute_result"
    }
   ],
   "source": [
    "import IPython.display as display\n",
    "dir(display)"
   ]
  },
  {
   "cell_type": "code",
   "execution_count": 5,
   "metadata": {},
   "outputs": [
    {
     "data": {
      "text/html": [
       "<span>This should be: <b>bold</b></span>"
      ],
      "text/plain": [
       "<IPython.core.display.HTML object>"
      ]
     },
     "metadata": {},
     "output_type": "display_data"
    }
   ],
   "source": [
    "display.display(display.HTML(\"<span>This should be: <b>bold</b></span>\"))"
   ]
  },
  {
   "cell_type": "code",
   "execution_count": null,
   "metadata": {},
   "outputs": [],
   "source": []
  }
 ],
 "metadata": {
  "kernelspec": {
   "display_name": "Python 3",
   "language": "python",
   "name": "python3"
  },
  "language_info": {
   "codemirror_mode": {
    "name": "ipython",
    "version": 3
   },
   "file_extension": ".py",
   "mimetype": "text/x-python",
   "name": "python",
   "nbconvert_exporter": "python",
   "pygments_lexer": "ipython3",
   "version": "3.8.6"
  }
 },
 "nbformat": 4,
 "nbformat_minor": 4
}
